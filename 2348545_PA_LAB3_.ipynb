{
  "nbformat": 4,
  "nbformat_minor": 0,
  "metadata": {
    "colab": {
      "provenance": [],
      "include_colab_link": true
    },
    "kernelspec": {
      "name": "python3",
      "display_name": "Python 3"
    }
  },
  "cells": [
    {
      "cell_type": "markdown",
      "metadata": {
        "id": "view-in-github",
        "colab_type": "text"
      },
      "source": [
        "<a href=\"https://colab.research.google.com/github/ShrutiChrist/Predictive-Analysis/blob/main/2348545_PA_LAB3_.ipynb\" target=\"_parent\"><img src=\"https://colab.research.google.com/assets/colab-badge.svg\" alt=\"Open In Colab\"/></a>"
      ]
    },
    {
      "cell_type": "code",
      "metadata": {
        "id": "uLkWOXChsBxn",
        "colab": {
          "base_uri": "https://localhost:8080/",
          "height": 309
        },
        "outputId": "fcbc8688-5d32-400b-b62c-f8668b0b50c9"
      },
      "source": [
        "# Importing\n",
        "import pandas as pd\n",
        "import numpy as np\n",
        "import seaborn as sns\n",
        "import matplotlib.pyplot as plt\n",
        "from sklearn.preprocessing import LabelEncoder\n",
        "from sklearn.model_selection import train_test_split\n",
        "from imblearn.under_sampling import RandomUnderSampler\n",
        "from sklearn.preprocessing import StandardScaler\n",
        "from xgboost import XGBClassifier\n",
        "from sklearn.model_selection import cross_validate\n",
        "from sklearn.linear_model import LogisticRegression\n",
        "from sklearn.tree import DecisionTreeClassifier\n",
        "from sklearn.svm import SVC\n",
        "from sklearn.model_selection import StratifiedKFold\n",
        "from sklearn.model_selection import GridSearchCV\n",
        "from sklearn.metrics import classification_report\n",
        "from sklearn.metrics import confusion_matrix\n",
        "\n",
        "\n",
        "# Reading the data\n",
        "churn = pd.read_csv('/Shruti_PA_Telco-Customer-Churn.csv')\n",
        "churn.head()"
      ],
      "execution_count": null,
      "outputs": [
        {
          "output_type": "execute_result",
          "data": {
            "text/html": [
              "<div>\n",
              "<style scoped>\n",
              "    .dataframe tbody tr th:only-of-type {\n",
              "        vertical-align: middle;\n",
              "    }\n",
              "\n",
              "    .dataframe tbody tr th {\n",
              "        vertical-align: top;\n",
              "    }\n",
              "\n",
              "    .dataframe thead th {\n",
              "        text-align: right;\n",
              "    }\n",
              "</style>\n",
              "<table border=\"1\" class=\"dataframe\">\n",
              "  <thead>\n",
              "    <tr style=\"text-align: right;\">\n",
              "      <th></th>\n",
              "      <th>customerID</th>\n",
              "      <th>gender</th>\n",
              "      <th>SeniorCitizen</th>\n",
              "      <th>Partner</th>\n",
              "      <th>Dependents</th>\n",
              "      <th>tenure</th>\n",
              "      <th>PhoneService</th>\n",
              "      <th>MultipleLines</th>\n",
              "      <th>InternetService</th>\n",
              "      <th>OnlineSecurity</th>\n",
              "      <th>OnlineBackup</th>\n",
              "      <th>DeviceProtection</th>\n",
              "      <th>TechSupport</th>\n",
              "      <th>StreamingTV</th>\n",
              "      <th>StreamingMovies</th>\n",
              "      <th>Contract</th>\n",
              "      <th>PaperlessBilling</th>\n",
              "      <th>PaymentMethod</th>\n",
              "      <th>MonthlyCharges</th>\n",
              "      <th>TotalCharges</th>\n",
              "      <th>Churn</th>\n",
              "    </tr>\n",
              "  </thead>\n",
              "  <tbody>\n",
              "    <tr>\n",
              "      <th>0</th>\n",
              "      <td>7590-VHVEG</td>\n",
              "      <td>Female</td>\n",
              "      <td>0</td>\n",
              "      <td>Yes</td>\n",
              "      <td>No</td>\n",
              "      <td>1</td>\n",
              "      <td>No</td>\n",
              "      <td>No phone service</td>\n",
              "      <td>DSL</td>\n",
              "      <td>No</td>\n",
              "      <td>Yes</td>\n",
              "      <td>No</td>\n",
              "      <td>No</td>\n",
              "      <td>No</td>\n",
              "      <td>No</td>\n",
              "      <td>Month-to-month</td>\n",
              "      <td>Yes</td>\n",
              "      <td>Electronic check</td>\n",
              "      <td>29.85</td>\n",
              "      <td>29.85</td>\n",
              "      <td>No</td>\n",
              "    </tr>\n",
              "    <tr>\n",
              "      <th>1</th>\n",
              "      <td>5575-GNVDE</td>\n",
              "      <td>Male</td>\n",
              "      <td>0</td>\n",
              "      <td>No</td>\n",
              "      <td>No</td>\n",
              "      <td>34</td>\n",
              "      <td>Yes</td>\n",
              "      <td>No</td>\n",
              "      <td>DSL</td>\n",
              "      <td>Yes</td>\n",
              "      <td>No</td>\n",
              "      <td>Yes</td>\n",
              "      <td>No</td>\n",
              "      <td>No</td>\n",
              "      <td>No</td>\n",
              "      <td>One year</td>\n",
              "      <td>No</td>\n",
              "      <td>Mailed check</td>\n",
              "      <td>56.95</td>\n",
              "      <td>1889.5</td>\n",
              "      <td>No</td>\n",
              "    </tr>\n",
              "    <tr>\n",
              "      <th>2</th>\n",
              "      <td>3668-QPYBK</td>\n",
              "      <td>Male</td>\n",
              "      <td>0</td>\n",
              "      <td>No</td>\n",
              "      <td>No</td>\n",
              "      <td>2</td>\n",
              "      <td>Yes</td>\n",
              "      <td>No</td>\n",
              "      <td>DSL</td>\n",
              "      <td>Yes</td>\n",
              "      <td>Yes</td>\n",
              "      <td>No</td>\n",
              "      <td>No</td>\n",
              "      <td>No</td>\n",
              "      <td>No</td>\n",
              "      <td>Month-to-month</td>\n",
              "      <td>Yes</td>\n",
              "      <td>Mailed check</td>\n",
              "      <td>53.85</td>\n",
              "      <td>108.15</td>\n",
              "      <td>Yes</td>\n",
              "    </tr>\n",
              "    <tr>\n",
              "      <th>3</th>\n",
              "      <td>7795-CFOCW</td>\n",
              "      <td>Male</td>\n",
              "      <td>0</td>\n",
              "      <td>No</td>\n",
              "      <td>No</td>\n",
              "      <td>45</td>\n",
              "      <td>No</td>\n",
              "      <td>No phone service</td>\n",
              "      <td>DSL</td>\n",
              "      <td>Yes</td>\n",
              "      <td>No</td>\n",
              "      <td>Yes</td>\n",
              "      <td>Yes</td>\n",
              "      <td>No</td>\n",
              "      <td>No</td>\n",
              "      <td>One year</td>\n",
              "      <td>No</td>\n",
              "      <td>Bank transfer (automatic)</td>\n",
              "      <td>42.30</td>\n",
              "      <td>1840.75</td>\n",
              "      <td>No</td>\n",
              "    </tr>\n",
              "    <tr>\n",
              "      <th>4</th>\n",
              "      <td>9237-HQITU</td>\n",
              "      <td>Female</td>\n",
              "      <td>0</td>\n",
              "      <td>No</td>\n",
              "      <td>No</td>\n",
              "      <td>2</td>\n",
              "      <td>Yes</td>\n",
              "      <td>No</td>\n",
              "      <td>Fiber optic</td>\n",
              "      <td>No</td>\n",
              "      <td>No</td>\n",
              "      <td>No</td>\n",
              "      <td>No</td>\n",
              "      <td>No</td>\n",
              "      <td>No</td>\n",
              "      <td>Month-to-month</td>\n",
              "      <td>Yes</td>\n",
              "      <td>Electronic check</td>\n",
              "      <td>70.70</td>\n",
              "      <td>151.65</td>\n",
              "      <td>Yes</td>\n",
              "    </tr>\n",
              "  </tbody>\n",
              "</table>\n",
              "</div>"
            ],
            "text/plain": [
              "   customerID  gender  SeniorCitizen  ... MonthlyCharges TotalCharges  Churn\n",
              "0  7590-VHVEG  Female              0  ...          29.85        29.85     No\n",
              "1  5575-GNVDE    Male              0  ...          56.95       1889.5     No\n",
              "2  3668-QPYBK    Male              0  ...          53.85       108.15    Yes\n",
              "3  7795-CFOCW    Male              0  ...          42.30      1840.75     No\n",
              "4  9237-HQITU  Female              0  ...          70.70       151.65    Yes\n",
              "\n",
              "[5 rows x 21 columns]"
            ]
          },
          "metadata": {
            "tags": []
          },
          "execution_count": 2
        }
      ]
    },
    {
      "cell_type": "markdown",
      "metadata": {
        "id": "V5x-7SFFTgE0"
      },
      "source": [
        "Here, the first column is an individual key. Also, the majority of the columns contain categorical data.\n",
        "\n",
        "Used the `info` method to get more information about the data."
      ]
    },
    {
      "cell_type": "code",
      "metadata": {
        "id": "tt_Akc-ws0cO",
        "colab": {
          "base_uri": "https://localhost:8080/",
          "height": 493
        },
        "outputId": "dcf3acb8-6844-45cb-a89a-41bcbe6d8628"
      },
      "source": [
        "churn.info()"
      ],
      "execution_count": null,
      "outputs": [
        {
          "output_type": "stream",
          "text": [
            "<class 'pandas.core.frame.DataFrame'>\n",
            "RangeIndex: 7043 entries, 0 to 7042\n",
            "Data columns (total 21 columns):\n",
            " #   Column            Non-Null Count  Dtype  \n",
            "---  ------            --------------  -----  \n",
            " 0   customerID        7043 non-null   object \n",
            " 1   gender            7043 non-null   object \n",
            " 2   SeniorCitizen     7043 non-null   int64  \n",
            " 3   Partner           7043 non-null   object \n",
            " 4   Dependents        7043 non-null   object \n",
            " 5   tenure            7043 non-null   int64  \n",
            " 6   PhoneService      7043 non-null   object \n",
            " 7   MultipleLines     7043 non-null   object \n",
            " 8   InternetService   7043 non-null   object \n",
            " 9   OnlineSecurity    7043 non-null   object \n",
            " 10  OnlineBackup      7043 non-null   object \n",
            " 11  DeviceProtection  7043 non-null   object \n",
            " 12  TechSupport       7043 non-null   object \n",
            " 13  StreamingTV       7043 non-null   object \n",
            " 14  StreamingMovies   7043 non-null   object \n",
            " 15  Contract          7043 non-null   object \n",
            " 16  PaperlessBilling  7043 non-null   object \n",
            " 17  PaymentMethod     7043 non-null   object \n",
            " 18  MonthlyCharges    7043 non-null   float64\n",
            " 19  TotalCharges      7043 non-null   object \n",
            " 20  Churn             7043 non-null   object \n",
            "dtypes: float64(1), int64(2), object(18)\n",
            "memory usage: 1.1+ MB\n"
          ],
          "name": "stdout"
        }
      ]
    },
    {
      "cell_type": "markdown",
      "metadata": {
        "id": "zuarICVJTpTM"
      },
      "source": [
        "\n",
        "\n",
        "* The DataFrame contains 7,043 rows and 21 columns;\n",
        "* There are no missing values;\n",
        "* The `TotalCharges` column is listed as object but it should be listed as float.\n"
      ]
    },
    {
      "cell_type": "code",
      "metadata": {
        "id": "qT72wDakwd91",
        "colab": {
          "base_uri": "https://localhost:8080/",
          "height": 391
        },
        "outputId": "4617a6eb-46a4-43ca-b610-1d352808250c"
      },
      "source": [
        "churn.nunique()"
      ],
      "execution_count": null,
      "outputs": [
        {
          "output_type": "execute_result",
          "data": {
            "text/plain": [
              "customerID          7043\n",
              "gender                 2\n",
              "SeniorCitizen          2\n",
              "Partner                2\n",
              "Dependents             2\n",
              "tenure                73\n",
              "PhoneService           2\n",
              "MultipleLines          3\n",
              "InternetService        3\n",
              "OnlineSecurity         3\n",
              "OnlineBackup           3\n",
              "DeviceProtection       3\n",
              "TechSupport            3\n",
              "StreamingTV            3\n",
              "StreamingMovies        3\n",
              "Contract               3\n",
              "PaperlessBilling       2\n",
              "PaymentMethod          4\n",
              "MonthlyCharges      1585\n",
              "TotalCharges        6531\n",
              "Churn                  2\n",
              "dtype: int64"
            ]
          },
          "metadata": {
            "tags": []
          },
          "execution_count": 3
        }
      ]
    },
    {
      "cell_type": "markdown",
      "metadata": {
        "id": "RmzUqfUXT3Dk"
      },
      "source": [
        "There are seven columns with only two unique values, including the `Churn` column, the target variable, call these columns binaries. The other categorical columns contain either three or four unique values."
      ]
    },
    {
      "cell_type": "markdown",
      "metadata": {
        "id": "GcyyXvKQT910"
      },
      "source": [
        "### **Data Cleaning**\n"
      ]
    },
    {
      "cell_type": "code",
      "metadata": {
        "id": "zyiBEsjnwyvB"
      },
      "source": [
        "#churn['TotalCharges'] = pd.to_numeric(churn['TotalCharges'])"
      ],
      "execution_count": null,
      "outputs": []
    },
    {
      "cell_type": "code",
      "metadata": {
        "id": "hDPuo2hQxAIJ",
        "colab": {
          "base_uri": "https://localhost:8080/",
          "height": 34
        },
        "outputId": "bf7f95fc-e986-43af-d2b3-aed7e8b2ff59"
      },
      "source": [
        "n_missing = len(churn[churn['TotalCharges'] == ' '])\n",
        "print(f'Number of missing values in the TotalCharges column: {n_missing}')"
      ],
      "execution_count": null,
      "outputs": [
        {
          "output_type": "stream",
          "text": [
            "Number of missing values in the TotalCharges column: 11\n"
          ],
          "name": "stdout"
        }
      ]
    },
    {
      "cell_type": "markdown",
      "metadata": {
        "id": "-KWGSYjEUDr8"
      },
      "source": [
        "Eleven rows present this problem.\n",
        "\n",
        "* Change the whitespaces to null values using `np.nan`;\n",
        "* Convert the column to float;\n",
        "* Use the column's median to fill the null values;\n",
        "* Check if the values are filled properly and if the values in the column are in the right format.\n",
        "* Drop the `customerID` column."
      ]
    },
    {
      "cell_type": "code",
      "metadata": {
        "id": "PnQuTl0rym9P",
        "colab": {
          "base_uri": "https://localhost:8080/",
          "height": 51
        },
        "outputId": "f492c869-30a3-42ad-8b73-e5a51063b2c6"
      },
      "source": [
        "# Changing the whitespaces to null values using np.nan\n",
        "churn.loc[churn['TotalCharges'] == ' ', 'TotalCharges'] = np.nan\n",
        "\n",
        "# Converting the column to float\n",
        "churn['TotalCharges'] = churn['TotalCharges'].astype(float)\n",
        "\n",
        "# Using the column's median to fill the null values\n",
        "churn['TotalCharges'].fillna(churn['TotalCharges'].median(), inplace=True)\n",
        "\n",
        "# Checking the values and the format\n",
        "new_missing = len(churn[churn['TotalCharges'] == ' '])\n",
        "print(f'Number of missing values in the TotalCharges column: {new_missing}')\n",
        "print(f'Value type: {churn.TotalCharges.dtypes}')\n",
        "\n",
        "# Dropping the customerID column\n",
        "churn.drop('customerID', axis=1, inplace=True)"
      ],
      "execution_count": null,
      "outputs": [
        {
          "output_type": "stream",
          "text": [
            "Number of missing values in the TotalCharges column: 0\n",
            "Value type: float64\n"
          ],
          "name": "stdout"
        }
      ]
    },
    {
      "cell_type": "markdown",
      "metadata": {
        "id": "DMjmTjmoVxU2"
      },
      "source": [
        "The `PaymentMethod` column contains four unique values:\n",
        "\n",
        "* Electronic check    \n",
        "* Mailed check        \n",
        "* Bank transfer (automatic)      \n",
        "* Credit card (automatic)\n",
        "\n",
        "Removing the string `(automatic)` from the values only so it's easier to understand the charts."
      ]
    },
    {
      "cell_type": "code",
      "metadata": {
        "id": "qoo2w-WIw-_G"
      },
      "source": [
        "churn['PaymentMethod'] = churn['PaymentMethod'].str.replace('(automatic)', '').str.replace('(', '').str.replace(')', '').str.strip()"
      ],
      "execution_count": null,
      "outputs": []
    },
    {
      "cell_type": "code",
      "metadata": {
        "id": "V8F_r2nMxS4K",
        "colab": {
          "base_uri": "https://localhost:8080/",
          "height": 102
        },
        "outputId": "97ebcd6d-0f79-4043-82e8-e0dfedb7f2db"
      },
      "source": [
        "churn['PaymentMethod'].value_counts()"
      ],
      "execution_count": null,
      "outputs": [
        {
          "output_type": "execute_result",
          "data": {
            "text/plain": [
              "Electronic check    2365\n",
              "Mailed check        1612\n",
              "Bank transfer       1544\n",
              "Credit card         1522\n",
              "Name: PaymentMethod, dtype: int64"
            ]
          },
          "metadata": {
            "tags": []
          },
          "execution_count": 9
        }
      ]
    },
    {
      "cell_type": "markdown",
      "metadata": {
        "id": "jKGS1vUGX6dA"
      },
      "source": [
        "### **Analysing the Data**\n",
        " Plot a bar chart for each categorical column so we can see how each category in these columns impacts the Churn column.\n",
        "\n",
        "Before plotting, we'll transform the values in the `Churn` column from labels `Yes` and `No` to numbers 0 and 1. We'll do the opposite with the `SeniorCitizen` column so the column's chart is properly labeled.\n",
        "\n",
        "We'll then create three lists:\n",
        "\n",
        "* One list containing the binary variables, except the `Churn`;\n",
        "* One list containing the other categorical variables;\n",
        "* A third list that will be the addition of the first two.\n",
        "\n",
        "The third list will be used to plot the charts and the first two we'll be used later on this project to encode the categorical variables."
      ]
    },
    {
      "cell_type": "code",
      "metadata": {
        "id": "J_2YUze6EIND",
        "colab": {
          "base_uri": "https://localhost:8080/",
          "height": 1000
        },
        "outputId": "3f9c58a4-27cd-43e1-d325-a27cf3df118b"
      },
      "source": [
        "# Transforming the values in the Churn and SeniorCitizen columns\n",
        "churn.loc[churn['Churn'] == 'No','Churn'] = 0\n",
        "churn.loc[churn['Churn'] == 'Yes','Churn'] = 1\n",
        "churn['Churn'] = churn['Churn'].astype(int)\n",
        "churn.loc[churn['SeniorCitizen'] == 0,'SeniorCitizen'] = 'No'\n",
        "churn.loc[churn['SeniorCitizen'] == 1,'SeniorCitizen'] = 'Yes'\n",
        "\n",
        "# Creating the lists\n",
        "binary = [col for col in churn.columns if len(churn[col].unique()) == 2 and col != 'Churn']\n",
        "categorical = [col for col in churn.columns if 2 < len(churn[col].unique()) < 5]\n",
        "bin_cat = binary + categorical\n",
        "\n",
        "# Plotting\n",
        "fig = plt.figure(figsize=(20,20))\n",
        "\n",
        "for i in range(len(bin_cat)):\n",
        "    churn_plot = churn.groupby(bin_cat[i]).Churn.mean()\n",
        "    ax = fig.add_subplot(5, 4, i+1)\n",
        "    rects = ax.bar(churn_plot.index, churn_plot, color=sns.color_palette('Set1'), alpha=0.6)\n",
        "    ax.grid(False)\n",
        "    ax.set_ylim(0,1)\n",
        "    ax.tick_params(labelleft=False)\n",
        "    ax.set_title(f'{bin_cat[i].title()} vs Churn', alpha=0.5)\n",
        "\n",
        "    for rect in (rects):\n",
        "        height = rect.get_height()\n",
        "        ax.text(x=rect.get_x() + rect.get_width() / 2, y=height * 0.5, s=round(height, 2), ha='center', va='center', alpha=0.5, fontweight='bold')\n",
        "\n",
        "plt.tight_layout()\n",
        "plt.show()"
      ],
      "execution_count": null,
      "outputs": [
        {
          "output_type": "display_data",
          "data": {
            "image/png": "[encoded data removed]",
            "text/plain": [
              "<Figure size 1440x1440 with 16 Axes>"
            ]
          },
          "metadata": {
            "tags": []
          }
        }
      ]
    },
    {
      "cell_type": "markdown",
      "metadata": {
        "id": "luWaG63Ea-PZ"
      },
      "source": [
        "\n",
        "\n",
        "* Customers without dependents are two times more likely to churn.\n",
        "* Customers that use paperless billing and optical fiber are more likely to churn.\n",
        "* Customers with no online security or backup, no device protection, and no tech support are from two to three times more likely to churn.\n",
        "* Customers with no internet service are unlikely to churn.\n",
        "* Customers with month-to-month contracts are almost four times more likely to churn than customers with yearly contracts. Two-year contractors are very unlikely to churn.\n",
        "* Customers that use electronic checks to pay their bills are more likely to churn.\n",
        "\n"
      ]
    },
    {
      "cell_type": "code",
      "metadata": {
        "id": "rWobbVeM0TW-",
        "colab": {
          "base_uri": "https://localhost:8080/",
          "height": 365
        },
        "outputId": "b8102908-b7d1-4ce2-e57b-ef035943a0fb"
      },
      "source": [
        "numeric_columns = ['tenure', 'MonthlyCharges', 'TotalCharges']\n",
        "\n",
        "fig = plt.figure(figsize=(20, 5))\n",
        "\n",
        "for i in range(len(numeric_columns)):\n",
        "    num_plot = churn.groupby(numeric_columns[i]).Churn.mean()\n",
        "    ax = fig.add_subplot(1, 3, i+1)\n",
        "    ax.scatter(num_plot.index, num_plot)\n",
        "    ax.set_title(f'{numeric_columns[i]} vs Churn')\n",
        "    ax.set_ylim(-0.05, 1.05)\n",
        "\n",
        "plt.tight_layout()\n",
        "plt.show()"
      ],
      "execution_count": null,
      "outputs": [
        {
          "output_type": "display_data",
          "data": {
            "image/png": "[encoded data removed]",
            "text/plain": [
              "<Figure size 1440x360 with 3 Axes>"
            ]
          },
          "metadata": {
            "tags": []
          }
        }
      ]
    },
    {
      "cell_type": "markdown",
      "metadata": {
        "id": "UZRAazo9dC3a"
      },
      "source": [
        " There is a significant correlation between the `tenure` and `Churn` columns. The highest the tenure, the lowest the chances that the customer will churn.\n",
        "\n",
        "Unfortunately, there's no much we can say about the `MonthlyCharges` and `TotalCharges` columns.\n",
        "\n",
        "Finally,determining how balanced the dataset is and decide whether or not to balance it."
      ]
    },
    {
      "cell_type": "code",
      "metadata": {
        "id": "xhJANxhdU-Bt",
        "colab": {
          "base_uri": "https://localhost:8080/",
          "height": 502
        },
        "outputId": "57fb0913-9f8d-47fd-b074-4637b26b2787"
      },
      "source": [
        "fig, ax = plt.subplots(figsize=(10,8))\n",
        "sns.countplot(churn['Churn'])\n",
        "plt.show()"
      ],
      "execution_count": null,
      "outputs": [
        {
          "output_type": "display_data",
          "data": {
            "image/png": "[encoded data removed]",
            "text/plain": [
              "<Figure size 720x576 with 1 Axes>"
            ]
          },
          "metadata": {
            "tags": []
          }
        }
      ]
    },
    {
      "cell_type": "markdown",
      "metadata": {
        "id": "930pMvCoeQet"
      },
      "source": [
        "The dataset is not properly balanced, but it is no highly unbalanced either. Therefore, will train machine learning models using unbalanced and balanced data and see which data presents the best results.\n",
        "\n",
        "### **Preparing the Data**\n",
        "Now prepare the data to train the models. First, need to encode the categorical variables. For the binary variables, will use the `LabelEncoder` class and for the other categorical variables will use the `pandas.get_dummies` function."
      ]
    },
    {
      "cell_type": "code",
      "metadata": {
        "id": "VKw5HL8wM4jF",
        "colab": {
          "base_uri": "https://localhost:8080/",
          "height": 258
        },
        "outputId": "c63b0b0d-2358-4216-ea97-2bd069e4330e"
      },
      "source": [
        "for col in binary:\n",
        "    le = LabelEncoder().fit(churn[col])\n",
        "    churn[col] = le.transform(churn[col])\n",
        "\n",
        "churn = pd.get_dummies(churn, columns=categorical)\n",
        "\n",
        "churn.head()"
      ],
      "execution_count": null,
      "outputs": [
        {
          "output_type": "execute_result",
          "data": {
            "text/html": [
              "<div>\n",
              "<style scoped>\n",
              "    .dataframe tbody tr th:only-of-type {\n",
              "        vertical-align: middle;\n",
              "    }\n",
              "\n",
              "    .dataframe tbody tr th {\n",
              "        vertical-align: top;\n",
              "    }\n",
              "\n",
              "    .dataframe thead th {\n",
              "        text-align: right;\n",
              "    }\n",
              "</style>\n",
              "<table border=\"1\" class=\"dataframe\">\n",
              "  <thead>\n",
              "    <tr style=\"text-align: right;\">\n",
              "      <th></th>\n",
              "      <th>gender</th>\n",
              "      <th>SeniorCitizen</th>\n",
              "      <th>Partner</th>\n",
              "      <th>Dependents</th>\n",
              "      <th>tenure</th>\n",
              "      <th>PhoneService</th>\n",
              "      <th>PaperlessBilling</th>\n",
              "      <th>MonthlyCharges</th>\n",
              "      <th>TotalCharges</th>\n",
              "      <th>Churn</th>\n",
              "      <th>MultipleLines_No</th>\n",
              "      <th>MultipleLines_No phone service</th>\n",
              "      <th>MultipleLines_Yes</th>\n",
              "      <th>InternetService_DSL</th>\n",
              "      <th>InternetService_Fiber optic</th>\n",
              "      <th>InternetService_No</th>\n",
              "      <th>OnlineSecurity_No</th>\n",
              "      <th>OnlineSecurity_No internet service</th>\n",
              "      <th>OnlineSecurity_Yes</th>\n",
              "      <th>OnlineBackup_No</th>\n",
              "      <th>OnlineBackup_No internet service</th>\n",
              "      <th>OnlineBackup_Yes</th>\n",
              "      <th>DeviceProtection_No</th>\n",
              "      <th>DeviceProtection_No internet service</th>\n",
              "      <th>DeviceProtection_Yes</th>\n",
              "      <th>TechSupport_No</th>\n",
              "      <th>TechSupport_No internet service</th>\n",
              "      <th>TechSupport_Yes</th>\n",
              "      <th>StreamingTV_No</th>\n",
              "      <th>StreamingTV_No internet service</th>\n",
              "      <th>StreamingTV_Yes</th>\n",
              "      <th>StreamingMovies_No</th>\n",
              "      <th>StreamingMovies_No internet service</th>\n",
              "      <th>StreamingMovies_Yes</th>\n",
              "      <th>Contract_Month-to-month</th>\n",
              "      <th>Contract_One year</th>\n",
              "      <th>Contract_Two year</th>\n",
              "      <th>PaymentMethod_Bank transfer</th>\n",
              "      <th>PaymentMethod_Credit card</th>\n",
              "      <th>PaymentMethod_Electronic check</th>\n",
              "      <th>PaymentMethod_Mailed check</th>\n",
              "    </tr>\n",
              "  </thead>\n",
              "  <tbody>\n",
              "    <tr>\n",
              "      <th>0</th>\n",
              "      <td>0</td>\n",
              "      <td>0</td>\n",
              "      <td>1</td>\n",
              "      <td>0</td>\n",
              "      <td>1</td>\n",
              "      <td>0</td>\n",
              "      <td>1</td>\n",
              "      <td>29.85</td>\n",
              "      <td>29.85</td>\n",
              "      <td>0</td>\n",
              "      <td>0</td>\n",
              "      <td>1</td>\n",
              "      <td>0</td>\n",
              "      <td>1</td>\n",
              "      <td>0</td>\n",
              "      <td>0</td>\n",
              "      <td>1</td>\n",
              "      <td>0</td>\n",
              "      <td>0</td>\n",
              "      <td>0</td>\n",
              "      <td>0</td>\n",
              "      <td>1</td>\n",
              "      <td>1</td>\n",
              "      <td>0</td>\n",
              "      <td>0</td>\n",
              "      <td>1</td>\n",
              "      <td>0</td>\n",
              "      <td>0</td>\n",
              "      <td>1</td>\n",
              "      <td>0</td>\n",
              "      <td>0</td>\n",
              "      <td>1</td>\n",
              "      <td>0</td>\n",
              "      <td>0</td>\n",
              "      <td>1</td>\n",
              "      <td>0</td>\n",
              "      <td>0</td>\n",
              "      <td>0</td>\n",
              "      <td>0</td>\n",
              "      <td>1</td>\n",
              "      <td>0</td>\n",
              "    </tr>\n",
              "    <tr>\n",
              "      <th>1</th>\n",
              "      <td>1</td>\n",
              "      <td>0</td>\n",
              "      <td>0</td>\n",
              "      <td>0</td>\n",
              "      <td>34</td>\n",
              "      <td>1</td>\n",
              "      <td>0</td>\n",
              "      <td>56.95</td>\n",
              "      <td>1889.50</td>\n",
              "      <td>0</td>\n",
              "      <td>1</td>\n",
              "      <td>0</td>\n",
              "      <td>0</td>\n",
              "      <td>1</td>\n",
              "      <td>0</td>\n",
              "      <td>0</td>\n",
              "      <td>0</td>\n",
              "      <td>0</td>\n",
              "      <td>1</td>\n",
              "      <td>1</td>\n",
              "      <td>0</td>\n",
              "      <td>0</td>\n",
              "      <td>0</td>\n",
              "      <td>0</td>\n",
              "      <td>1</td>\n",
              "      <td>1</td>\n",
              "      <td>0</td>\n",
              "      <td>0</td>\n",
              "      <td>1</td>\n",
              "      <td>0</td>\n",
              "      <td>0</td>\n",
              "      <td>1</td>\n",
              "      <td>0</td>\n",
              "      <td>0</td>\n",
              "      <td>0</td>\n",
              "      <td>1</td>\n",
              "      <td>0</td>\n",
              "      <td>0</td>\n",
              "      <td>0</td>\n",
              "      <td>0</td>\n",
              "      <td>1</td>\n",
              "    </tr>\n",
              "    <tr>\n",
              "      <th>2</th>\n",
              "      <td>1</td>\n",
              "      <td>0</td>\n",
              "      <td>0</td>\n",
              "      <td>0</td>\n",
              "      <td>2</td>\n",
              "      <td>1</td>\n",
              "      <td>1</td>\n",
              "      <td>53.85</td>\n",
              "      <td>108.15</td>\n",
              "      <td>1</td>\n",
              "      <td>1</td>\n",
              "      <td>0</td>\n",
              "      <td>0</td>\n",
              "      <td>1</td>\n",
              "      <td>0</td>\n",
              "      <td>0</td>\n",
              "      <td>0</td>\n",
              "      <td>0</td>\n",
              "      <td>1</td>\n",
              "      <td>0</td>\n",
              "      <td>0</td>\n",
              "      <td>1</td>\n",
              "      <td>1</td>\n",
              "      <td>0</td>\n",
              "      <td>0</td>\n",
              "      <td>1</td>\n",
              "      <td>0</td>\n",
              "      <td>0</td>\n",
              "      <td>1</td>\n",
              "      <td>0</td>\n",
              "      <td>0</td>\n",
              "      <td>1</td>\n",
              "      <td>0</td>\n",
              "      <td>0</td>\n",
              "      <td>1</td>\n",
              "      <td>0</td>\n",
              "      <td>0</td>\n",
              "      <td>0</td>\n",
              "      <td>0</td>\n",
              "      <td>0</td>\n",
              "      <td>1</td>\n",
              "    </tr>\n",
              "    <tr>\n",
              "      <th>3</th>\n",
              "      <td>1</td>\n",
              "      <td>0</td>\n",
              "      <td>0</td>\n",
              "      <td>0</td>\n",
              "      <td>45</td>\n",
              "      <td>0</td>\n",
              "      <td>0</td>\n",
              "      <td>42.30</td>\n",
              "      <td>1840.75</td>\n",
              "      <td>0</td>\n",
              "      <td>0</td>\n",
              "      <td>1</td>\n",
              "      <td>0</td>\n",
              "      <td>1</td>\n",
              "      <td>0</td>\n",
              "      <td>0</td>\n",
              "      <td>0</td>\n",
              "      <td>0</td>\n",
              "      <td>1</td>\n",
              "      <td>1</td>\n",
              "      <td>0</td>\n",
              "      <td>0</td>\n",
              "      <td>0</td>\n",
              "      <td>0</td>\n",
              "      <td>1</td>\n",
              "      <td>0</td>\n",
              "      <td>0</td>\n",
              "      <td>1</td>\n",
              "      <td>1</td>\n",
              "      <td>0</td>\n",
              "      <td>0</td>\n",
              "      <td>1</td>\n",
              "      <td>0</td>\n",
              "      <td>0</td>\n",
              "      <td>0</td>\n",
              "      <td>1</td>\n",
              "      <td>0</td>\n",
              "      <td>1</td>\n",
              "      <td>0</td>\n",
              "      <td>0</td>\n",
              "      <td>0</td>\n",
              "    </tr>\n",
              "    <tr>\n",
              "      <th>4</th>\n",
              "      <td>0</td>\n",
              "      <td>0</td>\n",
              "      <td>0</td>\n",
              "      <td>0</td>\n",
              "      <td>2</td>\n",
              "      <td>1</td>\n",
              "      <td>1</td>\n",
              "      <td>70.70</td>\n",
              "      <td>151.65</td>\n",
              "      <td>1</td>\n",
              "      <td>1</td>\n",
              "      <td>0</td>\n",
              "      <td>0</td>\n",
              "      <td>0</td>\n",
              "      <td>1</td>\n",
              "      <td>0</td>\n",
              "      <td>1</td>\n",
              "      <td>0</td>\n",
              "      <td>0</td>\n",
              "      <td>1</td>\n",
              "      <td>0</td>\n",
              "      <td>0</td>\n",
              "      <td>1</td>\n",
              "      <td>0</td>\n",
              "      <td>0</td>\n",
              "      <td>1</td>\n",
              "      <td>0</td>\n",
              "      <td>0</td>\n",
              "      <td>1</td>\n",
              "      <td>0</td>\n",
              "      <td>0</td>\n",
              "      <td>1</td>\n",
              "      <td>0</td>\n",
              "      <td>0</td>\n",
              "      <td>1</td>\n",
              "      <td>0</td>\n",
              "      <td>0</td>\n",
              "      <td>0</td>\n",
              "      <td>0</td>\n",
              "      <td>1</td>\n",
              "      <td>0</td>\n",
              "    </tr>\n",
              "  </tbody>\n",
              "</table>\n",
              "</div>"
            ],
            "text/plain": [
              "   gender  ...  PaymentMethod_Mailed check\n",
              "0       0  ...                           0\n",
              "1       1  ...                           1\n",
              "2       1  ...                           1\n",
              "3       1  ...                           0\n",
              "4       0  ...                           0\n",
              "\n",
              "[5 rows x 41 columns]"
            ]
          },
          "metadata": {
            "tags": []
          },
          "execution_count": 8
        }
      ]
    },
    {
      "cell_type": "markdown",
      "metadata": {
        "id": "aSwbxd9SfSGt"
      },
      "source": [
        "Before training the models, we need to split the data between train and test. In the next cell, also use the `RandomUnderSampler` class to balance the dataset. We'll then have both balanced and unbalanced training sets.\n"
      ]
    },
    {
      "cell_type": "code",
      "metadata": {
        "id": "P4buHHP5Of8l",
        "colab": {
          "base_uri": "https://localhost:8080/",
          "height": 365
        },
        "outputId": "f023c88b-6544-473e-e758-ba4a2433c37f"
      },
      "source": [
        "X = churn.drop('Churn', axis=1)\n",
        "y = churn['Churn']\n",
        "\n",
        "X_train, X_test, y_train, y_test = train_test_split(X, y)\n",
        "\n",
        "rus = RandomUnderSampler()\n",
        "\n",
        "X_rus, y_rus = rus.fit_sample(X_train, y_train)\n",
        "\n",
        "fig, ax = plt.subplots(figsize=(8,5))\n",
        "sns.countplot(y_rus)\n",
        "\n",
        "plt.tight_layout()\n",
        "plt.show()"
      ],
      "execution_count": null,
      "outputs": [
        {
          "output_type": "display_data",
          "data": {
            "image/png": "[encoded data removed]",
            "text/plain": [
              "<Figure size 576x360 with 1 Axes>"
            ]
          },
          "metadata": {
            "tags": []
          }
        }
      ]
    },
    {
      "cell_type": "markdown",
      "metadata": {
        "id": "CUdjSBMRiNZW"
      },
      "source": [
        "One last step before training the models, we'll standardize the data using the `StandardScaler` class."
      ]
    },
    {
      "cell_type": "code",
      "metadata": {
        "id": "b9lmfknjDky4"
      },
      "source": [
        "scaler = StandardScaler()\n",
        "scaler.fit(X_train)\n",
        "X_train = scaler.transform(X_train)\n",
        "X_test = scaler.transform(X_test)\n",
        "X_rus = scaler.transform(X_rus)"
      ],
      "execution_count": null,
      "outputs": []
    },
    {
      "cell_type": "markdown",
      "metadata": {
        "id": "kMJXjTZYncv0"
      },
      "source": [
        "Four different machine learning algorithms:\n",
        "\n",
        "Logistic Regression\n",
        "Decision Trees\n",
        "Support Vector Machines\n",
        "XGBoost\n",
        "Each of the algorithms will be trained using both balanced and unbalanced data so the best algorithm-data combination can be determined.\n",
        "\n",
        "Metrics:\n",
        "\n",
        "The most important metric used will be Recall. This metric indicates the proportion of positive results yielded by the model by the total number of positive labels in the dataset. In this case, the Recall reveals the proportion of churns identified correctly by the total number of churns.\n",
        "\n",
        "\n",
        "Precision will also be tracked as a secondary metric. Precision indicates the proportion of positives yielded by the models that are actually true positives.\n",
        "\n",
        "For the problem being dealt with, Recall is more important because it's preferable to have a model that does not miss any churns but sometimes classifies a non-churns as churns, than a model that does not classify non-churns as churns but misses a lot of churns. In other words, it's more favorable to be incorrect when classifying a non-churning customer than when classifying a churning customer.\n",
        "\n",
        "All the models will be trained using cross-validation and all results will be stored in a DataFrame for better visualization."
      ]
    },
    {
      "cell_type": "code",
      "metadata": {
        "id": "CxkEuKRHFaq9"
      },
      "source": [
        "# Training the models\n",
        "logreg_balanced = cross_validate(LogisticRegression(), X_rus, y_rus, cv=5, scoring=['recall', 'precision'])\n",
        "logreg_unbalanced = cross_validate(LogisticRegression(), X_train, y_train, cv=5, scoring=['recall', 'precision'])\n",
        "\n",
        "trees_balanced = cross_validate(DecisionTreeClassifier(), X_rus, y_rus, cv=5, scoring=['recall', 'precision'])\n",
        "trees_unbalanced = cross_validate(DecisionTreeClassifier(), X_train, y_train, cv=5, scoring=['recall', 'precision'])\n",
        "\n",
        "svm_balanced = cross_validate(SVC(), X_rus, y_rus, cv=5, scoring=['recall', 'precision'])\n",
        "svm_unbalanced = cross_validate(SVC(),  X_train, y_train, cv=5, scoring=['recall', 'precision'])\n",
        "\n",
        "xgb_balanced = cross_validate(XGBClassifier(), X_rus, y_rus, cv=5, scoring=['recall', 'precision'])\n",
        "xgb_unbalanced = cross_validate(XGBClassifier(), X_train, y_train, cv=5, scoring=['recall', 'precision'])"
      ],
      "execution_count": null,
      "outputs": []
    },
    {
      "cell_type": "code",
      "metadata": {
        "id": "qybLQKacEXK-",
        "colab": {
          "base_uri": "https://localhost:8080/",
          "height": 82
        },
        "outputId": "31f64495-d128-40d7-9d8f-65ad76696a55"
      },
      "source": [
        "# Storing the results in a DataFrame\n",
        "summary = pd.DataFrame({\n",
        "            'labels': ['recall', 'precision'],\n",
        "            'logreg_balanced': [logreg_balanced['test_recall'].mean(), logreg_balanced['test_precision'].mean()],\n",
        "            'logreg_unbalanced': [logreg_unbalanced['test_recall'].mean(), logreg_unbalanced['test_precision'].mean()],\n",
        "            'trees_balanced': [trees_balanced['test_recall'].mean(), trees_balanced['test_precision'].mean()],\n",
        "            'trees_unbalanced': [trees_unbalanced['test_recall'].mean(), trees_unbalanced['test_precision'].mean()],\n",
        "            'svm_balanced': [svm_balanced['test_recall'].mean(), svm_balanced['test_precision'].mean()],\n",
        "            'svm_unbalanced': [svm_unbalanced['test_recall'].mean(), svm_unbalanced['test_precision'].mean()],\n",
        "            'xgb_balanced': [xgb_balanced['test_recall'].mean(), xgb_balanced['test_precision'].mean()],\n",
        "            'xgb_unbalanced': [xgb_unbalanced['test_recall'].mean(), xgb_unbalanced['test_precision'].mean()]\n",
        "}\n",
        ").set_index('labels')\n",
        "summary.index.name=None\n",
        "\n",
        "summary.style.applymap(lambda x: 'background-color: lightgreen' if x >= 0.7 else '')"
      ],
      "execution_count": null,
      "outputs": [
        {
          "output_type": "execute_result",
          "data": {
            "text/html": [
              "<style  type=\"text/css\" >\n",
              "    #T_bb686e50_c476_11ea_81c0_0242ac1c0002row0_col0 {\n",
              "            background-color:  lightgreen;\n",
              "        }    #T_bb686e50_c476_11ea_81c0_0242ac1c0002row0_col4 {\n",
              "            background-color:  lightgreen;\n",
              "        }    #T_bb686e50_c476_11ea_81c0_0242ac1c0002row0_col6 {\n",
              "            background-color:  lightgreen;\n",
              "        }    #T_bb686e50_c476_11ea_81c0_0242ac1c0002row1_col0 {\n",
              "            background-color:  lightgreen;\n",
              "        }    #T_bb686e50_c476_11ea_81c0_0242ac1c0002row1_col4 {\n",
              "            background-color:  lightgreen;\n",
              "        }    #T_bb686e50_c476_11ea_81c0_0242ac1c0002row1_col6 {\n",
              "            background-color:  lightgreen;\n",
              "        }</style><table id=\"T_bb686e50_c476_11ea_81c0_0242ac1c0002\" ><thead>    <tr>        <th class=\"blank level0\" ></th>        <th class=\"col_heading level0 col0\" >logreg_balanced</th>        <th class=\"col_heading level0 col1\" >logreg_unbalanced</th>        <th class=\"col_heading level0 col2\" >trees_balanced</th>        <th class=\"col_heading level0 col3\" >trees_unbalanced</th>        <th class=\"col_heading level0 col4\" >svm_balanced</th>        <th class=\"col_heading level0 col5\" >svm_unbalanced</th>        <th class=\"col_heading level0 col6\" >xgb_balanced</th>        <th class=\"col_heading level0 col7\" >xgb_unbalanced</th>    </tr></thead><tbody>\n",
              "                <tr>\n",
              "                        <th id=\"T_bb686e50_c476_11ea_81c0_0242ac1c0002level0_row0\" class=\"row_heading level0 row0\" >recall</th>\n",
              "                        <td id=\"T_bb686e50_c476_11ea_81c0_0242ac1c0002row0_col0\" class=\"data row0 col0\" >0.790522</td>\n",
              "                        <td id=\"T_bb686e50_c476_11ea_81c0_0242ac1c0002row0_col1\" class=\"data row0 col1\" >0.542087</td>\n",
              "                        <td id=\"T_bb686e50_c476_11ea_81c0_0242ac1c0002row0_col2\" class=\"data row0 col2\" >0.678004</td>\n",
              "                        <td id=\"T_bb686e50_c476_11ea_81c0_0242ac1c0002row0_col3\" class=\"data row0 col3\" >0.505997</td>\n",
              "                        <td id=\"T_bb686e50_c476_11ea_81c0_0242ac1c0002row0_col4\" class=\"data row0 col4\" >0.780610</td>\n",
              "                        <td id=\"T_bb686e50_c476_11ea_81c0_0242ac1c0002row0_col5\" class=\"data row0 col5\" >0.487582</td>\n",
              "                        <td id=\"T_bb686e50_c476_11ea_81c0_0242ac1c0002row0_col6\" class=\"data row0 col6\" >0.789104</td>\n",
              "                        <td id=\"T_bb686e50_c476_11ea_81c0_0242ac1c0002row0_col7\" class=\"data row0 col7\" >0.513786</td>\n",
              "            </tr>\n",
              "            <tr>\n",
              "                        <th id=\"T_bb686e50_c476_11ea_81c0_0242ac1c0002level0_row1\" class=\"row_heading level0 row1\" >precision</th>\n",
              "                        <td id=\"T_bb686e50_c476_11ea_81c0_0242ac1c0002row1_col0\" class=\"data row1 col0\" >0.743723</td>\n",
              "                        <td id=\"T_bb686e50_c476_11ea_81c0_0242ac1c0002row1_col1\" class=\"data row1 col1\" >0.649659</td>\n",
              "                        <td id=\"T_bb686e50_c476_11ea_81c0_0242ac1c0002row1_col2\" class=\"data row1 col2\" >0.677809</td>\n",
              "                        <td id=\"T_bb686e50_c476_11ea_81c0_0242ac1c0002row1_col3\" class=\"data row1 col3\" >0.479968</td>\n",
              "                        <td id=\"T_bb686e50_c476_11ea_81c0_0242ac1c0002row1_col4\" class=\"data row1 col4\" >0.751400</td>\n",
              "                        <td id=\"T_bb686e50_c476_11ea_81c0_0242ac1c0002row1_col5\" class=\"data row1 col5\" >0.659098</td>\n",
              "                        <td id=\"T_bb686e50_c476_11ea_81c0_0242ac1c0002row1_col6\" class=\"data row1 col6\" >0.746463</td>\n",
              "                        <td id=\"T_bb686e50_c476_11ea_81c0_0242ac1c0002row1_col7\" class=\"data row1 col7\" >0.660008</td>\n",
              "            </tr>\n",
              "    </tbody></table>"
            ],
            "text/plain": [
              "<pandas.io.formats.style.Styler at 0x7f5516290dd8>"
            ]
          },
          "metadata": {
            "tags": []
          },
          "execution_count": 16
        }
      ]
    },
    {
      "cell_type": "markdown",
      "metadata": {
        "id": "V6HtEQMppKiA"
      },
      "source": [
        "### **Hyperparameters Tunning**\n",
        "\n",
        "From the DataFrame above, it is evident that the models using balanced data produced better results. Therefore, it is decided to proceed with the balanced data.\n",
        "\n",
        "SVM, Logistic Regression, and XGBoost exhibited similar results in both metrics. Hence, hyperparameters will be tuned using grid search for these three models. For this purpose, only Recall will be considered for evaluation.\n",
        "\n",
        "Let's begin by tuning the kernel and C in the SVM model."
      ]
    },
    {
      "cell_type": "code",
      "metadata": {
        "id": "l0zA-E7JD9ey",
        "colab": {
          "base_uri": "https://localhost:8080/",
          "height": 34
        },
        "outputId": "b9fd68d2-472b-429f-8c1a-6bdda2cc6025"
      },
      "source": [
        "kfold = StratifiedKFold(n_splits=5, shuffle=True)\n",
        "\n",
        "svm = SVC()\n",
        "\n",
        "param_grid = {'kernel': ['linear', 'poly', 'rbf', 'sigmoid'],\n",
        "              'C': [0.001, 0.01, 1, 10, 100]\n",
        "              }\n",
        "\n",
        "search = GridSearchCV(svm, param_grid, scoring='recall', cv=kfold)\n",
        "result = search.fit(X_rus, y_rus)\n",
        "\n",
        "print(f'Best recall: {result.best_score_} for {result.best_params_}')"
      ],
      "execution_count": null,
      "outputs": [
        {
          "output_type": "stream",
          "text": [
            "Best recall: 0.9306468185349471 for {'C': 0.01, 'kernel': 'poly'}\n"
          ],
          "name": "stdout"
        }
      ]
    },
    {
      "cell_type": "markdown",
      "metadata": {
        "id": "l9dbO7gVrEOo"
      },
      "source": [
        "There was a great improvement in Recall after the SVM model was tuned.\n",
        "\n",
        "Now let's tune `solver` and `C` in the Logistic Regression model."
      ]
    },
    {
      "cell_type": "code",
      "metadata": {
        "id": "AXURhvyKL_LI",
        "colab": {
          "base_uri": "https://localhost:8080/",
          "height": 34
        },
        "outputId": "8dfd90c7-63b0-42d7-c83a-77a3b03a9331"
      },
      "source": [
        "log_reg = LogisticRegression()\n",
        "\n",
        "param_grid = {'solver': ['newton-cg', 'lbfgs', 'liblinear'],\n",
        "              'C': [0.001, 0.01, 1, 10, 100]}\n",
        "\n",
        "search = GridSearchCV(log_reg, param_grid, scoring='recall', cv=kfold)\n",
        "result = search.fit(X_rus, y_rus)\n",
        "\n",
        "print(f'Best recall: {result.best_score_} for {result.best_params_}')"
      ],
      "execution_count": null,
      "outputs": [
        {
          "output_type": "stream",
          "text": [
            "Best recall: 0.8344084404681352 for {'C': 0.001, 'solver': 'liblinear'}\n"
          ],
          "name": "stdout"
        }
      ]
    },
    {
      "cell_type": "markdown",
      "metadata": {
        "id": "3NL1oLe6sPjA"
      },
      "source": [
        "The Logistic Regression model presented a slight improvement after tuned. Not as good as the SVM model, though.\n",
        "\n",
        "Now tune the XGBoost model. XGBoost has lots of hyperparameters. Because of this, we'll split the process into four steps.\n",
        "Considering the `learning_rate` equals to 0.1, we'll tune `n_estimators`, then we'll tune `max_depth` and `min_child_weight` together. After this, will tune `gamma` and finally tune the `learning_rate`."
      ]
    },
    {
      "cell_type": "code",
      "metadata": {
        "id": "7m9dHhqTgLXR",
        "colab": {
          "base_uri": "https://localhost:8080/",
          "height": 34
        },
        "outputId": "aa72e446-077d-4e37-8eeb-946f5dff00c5"
      },
      "source": [
        "xgb = XGBClassifier(learning_rate=0.1)\n",
        "\n",
        "param_grid = {'n_estimators':range(0,1000,50)}\n",
        "\n",
        "search = GridSearchCV(xgb, param_grid, scoring='recall', cv=kfold)\n",
        "result = search.fit(X_rus, y_rus)\n",
        "\n",
        "print(f'Best recall: {result.best_score_} for {result.best_params_}')"
      ],
      "execution_count": null,
      "outputs": [
        {
          "output_type": "stream",
          "text": [
            "Best recall: 0.8018494850011276 for {'n_estimators': 100}\n"
          ],
          "name": "stdout"
        }
      ]
    },
    {
      "cell_type": "code",
      "metadata": {
        "id": "9v2x4_Onl1KJ",
        "colab": {
          "base_uri": "https://localhost:8080/",
          "height": 34
        },
        "outputId": "b07d4679-9137-4f98-86d7-6603f306df25"
      },
      "source": [
        "xgb = XGBClassifier(learning_rate=0.1, n_estimators=100)\n",
        "\n",
        "param_grid = {'max_depth':range(1,8,1),\n",
        "              'min_child_weight':range(1,5,1)\n",
        "}\n",
        "\n",
        "search = GridSearchCV(xgb, param_grid, scoring='recall', cv=kfold)\n",
        "result = search.fit(X_rus, y_rus)\n",
        "\n",
        "print(f'Best recall: {result.best_score_} for {result.best_params_}')"
      ],
      "execution_count": null,
      "outputs": [
        {
          "output_type": "stream",
          "text": [
            "Best recall: 0.8025762473999449 for {'max_depth': 1, 'min_child_weight': 1}\n"
          ],
          "name": "stdout"
        }
      ]
    },
    {
      "cell_type": "code",
      "metadata": {
        "id": "XnubFa3yma2Y",
        "colab": {
          "base_uri": "https://localhost:8080/",
          "height": 34
        },
        "outputId": "30e8f76a-47f3-4f7a-b91d-3fa5530f0b8f"
      },
      "source": [
        "xgb = XGBClassifier(learning_rate=0.1, n_estimators=100, max_depth=1 , min_child_weight=1)\n",
        "\n",
        "param_grid = {'gamma':[i/10.0 for i in range(0,5)]}\n",
        "\n",
        "search = GridSearchCV(xgb, param_grid, scoring='recall', cv=kfold)\n",
        "result = search.fit(X_rus, y_rus)\n",
        "\n",
        "print(f'Best recall: {result.best_score_} for {result.best_params_}')"
      ],
      "execution_count": null,
      "outputs": [
        {
          "output_type": "stream",
          "text": [
            "Best recall: 0.8096233365912336 for {'gamma': 0.0}\n"
          ],
          "name": "stdout"
        }
      ]
    },
    {
      "cell_type": "code",
      "metadata": {
        "id": "qw_3C7g5moQY",
        "colab": {
          "base_uri": "https://localhost:8080/",
          "height": 34
        },
        "outputId": "4aa68199-38da-4916-bc83-65d5877d167f"
      },
      "source": [
        "xgb = XGBClassifier(n_estimators=100, max_depth=1 , min_child_weight=1, gamma=0)\n",
        "\n",
        "param_grid = {'learning_rate':[0.001, 0.01, 0.1, 1]}\n",
        "\n",
        "search = GridSearchCV(xgb, param_grid, scoring='recall', cv=kfold)\n",
        "result = search.fit(X_rus, y_rus)\n",
        "\n",
        "print(f'Best recall: {result.best_score_} for {result.best_params_}')"
      ],
      "execution_count": null,
      "outputs": [
        {
          "output_type": "stream",
          "text": [
            "Best recall: 0.8853720271658773 for {'learning_rate': 0.001}\n"
          ],
          "name": "stdout"
        }
      ]
    },
    {
      "cell_type": "markdown",
      "metadata": {
        "id": "UjkkuUbItJko"
      },
      "source": [
        "There was a considerable improvement in the XGBoost model as well, but SVM still provides the best Recall.\n",
        "\n",
        "Now use the test set to evaluate these two models and see if there's any significant difference from the results yielded by the models during training."
      ]
    },
    {
      "cell_type": "code",
      "metadata": {
        "id": "aUG9d_tQq--f",
        "colab": {
          "base_uri": "https://localhost:8080/",
          "height": 454
        },
        "outputId": "411cec45-b785-4107-d9c0-5b1dec45ba09"
      },
      "source": [
        "model_xgb = XGBClassifier(learning_rate=0.001, n_estimators=100, max_depth=1 , min_child_weight=1, gamma=0)\n",
        "model_xgb.fit(X_rus, y_rus)\n",
        "y_pred_xgb = model_xgb.predict(X_test)\n",
        "\n",
        "print(classification_report(y_test, y_pred_xgb))\n",
        "\n",
        "fig, ax = plt.subplots()\n",
        "sns.heatmap(confusion_matrix(y_test, y_pred_xgb, normalize='true'), annot=True, ax=ax)\n",
        "ax.set_title('Confusion Matrix')\n",
        "ax.set_ylabel('True')\n",
        "ax.set_xlabel('Predicted')\n",
        "\n",
        "plt.show()"
      ],
      "execution_count": null,
      "outputs": [
        {
          "output_type": "stream",
          "text": [
            "              precision    recall  f1-score   support\n",
            "\n",
            "           0       0.94      0.58      0.72      1305\n",
            "           1       0.42      0.89      0.57       456\n",
            "\n",
            "    accuracy                           0.66      1761\n",
            "   macro avg       0.68      0.73      0.64      1761\n",
            "weighted avg       0.80      0.66      0.68      1761\n",
            "\n"
          ],
          "name": "stdout"
        },
        {
          "output_type": "display_data",
          "data": {
            "image/png": "[encoded data removed]",
            "text/plain": [
              "<Figure size 432x288 with 2 Axes>"
            ]
          },
          "metadata": {
            "tags": [],
            "needs_background": "light"
          }
        }
      ]
    },
    {
      "cell_type": "code",
      "metadata": {
        "id": "W5LYvaLTo1OL",
        "colab": {
          "base_uri": "https://localhost:8080/",
          "height": 454
        },
        "outputId": "580370db-431b-4ade-f978-c282d84775e8"
      },
      "source": [
        "model_svm = SVC(kernel='poly', C=0.01)\n",
        "model_svm.fit(X_rus, y_rus)\n",
        "y_pred_svm = model_svm.predict(X_test)\n",
        "\n",
        "print(classification_report(y_test, y_pred_svm))\n",
        "\n",
        "fig, ax = plt.subplots()\n",
        "sns.heatmap(confusion_matrix(y_test, y_pred_svm, normalize='true'), annot=True, ax=ax)\n",
        "ax.set_title('Confusion Matrix')\n",
        "ax.set_ylabel('True')\n",
        "ax.set_xlabel('Predicted')\n",
        "\n",
        "plt.show()"
      ],
      "execution_count": null,
      "outputs": [
        {
          "output_type": "stream",
          "text": [
            "              precision    recall  f1-score   support\n",
            "\n",
            "           0       0.95      0.38      0.54      1305\n",
            "           1       0.35      0.94      0.51       456\n",
            "\n",
            "    accuracy                           0.53      1761\n",
            "   macro avg       0.65      0.66      0.52      1761\n",
            "weighted avg       0.79      0.53      0.53      1761\n",
            "\n"
          ],
          "name": "stdout"
        },
        {
          "output_type": "display_data",
          "data": {
            "image/png": "[encoded data removed]",
            "text/plain": [
              "<Figure size 432x288 with 2 Axes>"
            ]
          },
          "metadata": {
            "tags": [],
            "needs_background": "light"
          }
        }
      ]
    },
    {
      "cell_type": "markdown",
      "metadata": {
        "id": "rF4S2WUnttkg"
      },
      "source": [
        "Both models performed as well on the test set as on the training set. But SVM is still presenting a better Recall, therefore it would be the model chosen in a real-life situation."
      ]
    },
    {
      "cell_type": "markdown",
      "metadata": {
        "id": "9_tKCtDTtunG"
      },
      "source": [
        "## **Conclusion**\n",
        "\n",
        "In the churn prediction project, the main goal was to build a machine learning model capable of correctly identifying the highest possible number of churning customers. As a result, there are two models that have presented very satisfactory outcomes. Hence, it can be considered that the objective of the project was successfully accomplished.\n"
      ]
    }
  ]
}